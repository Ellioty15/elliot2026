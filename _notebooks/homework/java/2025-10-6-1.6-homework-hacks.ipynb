{
 "cells": [
  {
   "cell_type": "markdown",
   "id": "b2132ef3",
   "metadata": {},
   "source": [
    "---\n",
    "layout: post\n",
    "toc: true\n",
    "title: Homework (1.6)\n",
    "permalink: /csa/unit_01/1_6_hw\n",
    "---\n"
   ]
  },
  {
   "cell_type": "markdown",
   "id": "3e4ba1fa",
   "metadata": {},
   "source": [
    "# Popcorn Hack 1\n",
    "\n",
    "Transform this beginner code into more advanced code using compound assignment operators.\n",
    "```java\n",
    "int playerScore = 1000;\n",
    "int playerHealth = 100;\n",
    "int enemiesDefeated = 0;\n",
    "\n",
    "// Player defeats an enemy worth 250 points\n",
    "playerScore = playerScore + 250;\n",
    "\n",
    "// Player takes 15 damage\n",
    "playerHealth = playerHealth - 15;\n",
    "\n",
    "// Enemy count goes up\n",
    "enemiesDefeated = enemiesDefeated + 1;\n",
    "\n",
    "// Boss battle: double the current score!\n",
    "playerScore = playerScore * 2;\n",
    "\n",
    "// Healing potion restores health to 80% of current\n",
    "playerHealth = playerHealth * 4;\n",
    "playerHealth = playerHealth / 5;  // 4/5 = 0.8, but we need integer math\n",
    "```"
   ]
  },
  {
   "cell_type": "code",
   "execution_count": null,
   "id": "cf979bba",
   "metadata": {
    "vscode": {
     "languageId": "java"
    }
   },
   "outputs": [
    {
     "name": "stdout",
     "output_type": "stream",
     "text": [
      "1250\n",
      "85\n",
      "85\n",
      "1\n",
      "1\n",
      "2500\n",
      "2500\n",
      "68\n",
      "68\n"
     ]
    }
   ],
   "source": [
    "int playerScore = 1000;\n",
    "int playerHealth = 100;\n",
    "int enemiesDefeated = 0;\n",
    "\n",
    "// Player defeats an enemy worth 250 points\n",
    "playerScore += 250;\n",
    "System.out.println(playerScore);\n",
    "\n",
    "// Player takes 15 damage\n",
    "playerHealth -= 15;\n",
    "System.out.println(playerHealth);\n",
    "\n",
    "// Enemy count goes up\n",
    "enemiesDefeated += 1;\n",
    "System.out.println(enemiesDefeated);\n",
    "\n",
    "// Boss battle: double the current score!\n",
    "playerScore *= 2;\n",
    "System.out.println(playerScore);\n",
    "\n",
    "// Healing potion restores health to 80% of current (integer math)\n",
    "playerHealth *= 4;\n",
    "playerHealth /= 5;  // 4/5 = 0.8, but we need integer math\n",
    "System.out.println(playerHealth);"
   ]
  },
  {
   "cell_type": "markdown",
   "id": "f4796b17",
   "metadata": {},
   "source": [
    "# Popcorn Hack 2\n",
    "\n",
    "Write a short program where a variable called score starts at 100. Use at least three different compound assignment operators to update score, and print the result after each step.\n",
    "\n",
    "Example goals to try:\n",
    "\n",
    "Deduct points for a wrong answer (-=)\n",
    "Double the score with a power-up (*=)\n",
    "Find remainder after dividing by 7 (%=)\n"
   ]
  },
  {
   "cell_type": "code",
   "execution_count": 8,
   "id": "70f61b2a",
   "metadata": {
    "vscode": {
     "languageId": "java"
    }
   },
   "outputs": [
    {
     "name": "stdout",
     "output_type": "stream",
     "text": [
      "98\n",
      "196\n",
      "28\n"
     ]
    }
   ],
   "source": [
    "int score = 100;\n",
    "\n",
    "score -= 2;\n",
    "System.out.println(score);\n",
    "\n",
    "score *= 2;\n",
    "System.out.println(score);\n",
    "\n",
    "score /= 7;\n",
    "System.out.println(score);"
   ]
  },
  {
   "cell_type": "markdown",
   "id": "cce17056",
   "metadata": {},
   "source": [
    "# Option C: Fitness Progress Tracker\n",
    "Track your fitness journey and daily health metrics:\n",
    "\n",
    "Suggested variables to track:\n",
    "totalCalories - Calories consumed/burned\n",
    "workoutDays - Days you’ve exercised\n",
    "stepCount - Daily step count\n",
    "weightGoal - Target weight progress"
   ]
  },
  {
   "cell_type": "code",
   "execution_count": 12,
   "id": "d8f723b3",
   "metadata": {
    "vscode": {
     "languageId": "java"
    }
   },
   "outputs": [
    {
     "name": "stdout",
     "output_type": "stream",
     "text": [
      "Initial Weight: 150.0 lbs\n",
      "Initial Calories: 2000 cal\n",
      "Starting weight loss journey...\n",
      "Total Calories: 1500\n",
      "After 3 months, bodyweight is now: 150.0 lbs\n",
      "Starting muscle gain journey...\n",
      "Total Calories: 2000\n",
      "Days Exercised: 60 days\n",
      "Looking good at 155.0 lbs\n"
     ]
    }
   ],
   "source": [
    "double weight = 150.0; \n",
    "int totalCalories = 2000;\n",
    "int daysExercised = 0;\n",
    "System.out.println(\"Initial Weight: \" + weight + \" lbs\");\n",
    "System.out.println(\"Initial Calories: \" + totalCalories + \" cal\");\n",
    "// want to lose weight!\n",
    "System.out.println(\"Starting weight loss journey...\");\n",
    "totalCalories -= 500; // eat 500 fewer calories\n",
    "System.out.println(\"Total Calories: \" + totalCalories);\n",
    "//three months pass!\n",
    "System.out.println(\"After 3 months, bodyweight is now: \" + weight+ \" lbs\");\n",
    "//want to build muscle!\n",
    "System.out.println(\"Starting muscle gain journey...\");\n",
    "totalCalories += 500; \n",
    "System.out.println(\"Total Calories: \" + totalCalories);\n",
    "//gotta exercise too!\n",
    "daysExercised += 60;\n",
    "System.out.print(\"Days Exercised: \" + daysExercised + \" days\\n\");\n",
    "weight += 5;\n",
    "System.out.println(\"Looking good at \" + weight + \" lbs\");\n",
    "//Simulation over\n",
    "\n"
   ]
  }
 ],
 "metadata": {
  "kernelspec": {
   "display_name": "java (JJava/j!)",
   "language": "java",
   "name": "jbang-jjava"
  },
  "language_info": {
   "codemirror_mode": "java",
   "file_extension": ".jshell",
   "mimetype": "text/x-java-source",
   "name": "Java",
   "pygments_lexer": "java",
   "version": "21.0.8+9-Ubuntu-0ubuntu124.04.1"
  }
 },
 "nbformat": 4,
 "nbformat_minor": 5
}
