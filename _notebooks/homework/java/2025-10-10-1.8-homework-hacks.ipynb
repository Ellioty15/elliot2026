{
 "cells": [
  {
   "cell_type": "markdown",
   "id": "42c993a5",
   "metadata": {},
   "source": [
    "---\n",
    "layout: post\n",
    "toc: true\n",
    "title: Homework (1.8)\n",
    "permalink: /csa/unit_01/1_8_hw\n",
    "categories: [Java]\n",
    "---\n"
   ]
  },
  {
   "cell_type": "markdown",
   "id": "6a2d8483",
   "metadata": {},
   "source": [
    "# Hack 1 Documentation Analysis\n",
    "Rewrite the poorly written code. Write them with proper Javadoc comments."
   ]
  },
  {
   "cell_type": "code",
   "execution_count": null,
   "id": "9de51a70",
   "metadata": {
    "vscode": {
     "languageId": "java"
    }
   },
   "outputs": [],
   "source": [
    "public class stuff{\n",
    "    public static void main(String args[]){\n",
    "    //declare variables\n",
    "    int x = 5;\n",
    "    int y = 10;\n",
    "    int z = add(x,y);\n",
    "    //add the two variables that have been declared, and assign it to the new variable \"z\"\n",
    "    System.out.println(\"ans is \"+z);\n",
    "    }\n",
    "    \n",
    "    static int add(int a,int b){\n",
    "    //@return the system print x+y, which is 15\n",
    "        return a+b;\n",
    "    }\n",
    "}\n"
   ]
  },
  {
   "cell_type": "markdown",
   "id": "66b5a6aa",
   "metadata": {},
   "source": [
    "I improved the code by adding clarifying comments and using the @return to describe what is being returned."
   ]
  },
  {
   "cell_type": "markdown",
   "id": "de45f272",
   "metadata": {},
   "source": [
    "# Part 2\n",
    "Problem 1: Document a Complex Method Write complete Javadoc documentation for this method:"
   ]
  },
  {
   "cell_type": "code",
   "execution_count": null,
   "id": "d1121696",
   "metadata": {
    "vscode": {
     "languageId": "java"
    }
   },
   "outputs": [],
   "source": [
    "/**\n",
    " * Attempts to enroll a student in a specified course for a given semester.\n",
    " * \n",
    " * This method performs a series of validation checks before enrollment by\n",
    " * - Verifies that the student and course exist.\n",
    " * - Ensures that the course is not full.\n",
    " * - Checks for schedule conflicts with the student's existing courses.\n",
    " * - Validates that the student meets all prerequisite requirements.\n",
    " * - Ensures that enrolling in the course does not exceed the student's 18-credit limit.\n",
    " * If checks pass, students are enrolled in the course student \n",
    " * \n",
    " *\n",
    " * @param studentId  identifier of the student attempting to enroll\n",
    " * @param courseCode the code identifying the course\n",
    " * @param semester   the semester in which the student is enrolling\n",
    " * @return {@code true} if the enrollment is successful; {@code false} otherwise.\n",
    "\n"
   ]
  },
  {
   "cell_type": "markdown",
   "id": "f732c26e",
   "metadata": {},
   "source": [
    "# Part 3: Reflection Questions\n",
    "Why is documentation more important in team projects than solo projects?\n",
    "Give an example of when a method SHOULD be documented and when it SHOULD NOT.\n",
    "\n",
    "\n",
    "**Answers**\n",
    "Documentation is more important in team projects than solo projects because those who are working together will find it easier to understand your code, which makes it more efficient to work together.\n",
    "\n",
    "A method should be documented when its attributes are unclear or obscure on first glance, or when it is part of a collaborative work. Documentation isn't necessary for personal projects."
   ]
  }
 ],
 "metadata": {
  "kernelspec": {
   "display_name": "java (JJava/j!)",
   "language": "java",
   "name": "jbang-jjava"
  },
  "language_info": {
   "codemirror_mode": "java",
   "file_extension": ".jshell",
   "mimetype": "text/x-java-source",
   "name": "Java",
   "pygments_lexer": "java",
   "version": "21.0.8+9-Ubuntu-0ubuntu124.04.1"
  }
 },
 "nbformat": 4,
 "nbformat_minor": 5
}
