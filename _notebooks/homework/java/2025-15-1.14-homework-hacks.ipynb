{
 "cells": [
  {
   "cell_type": "markdown",
   "id": "627605c7",
   "metadata": {},
   "source": [
    "---\n",
    "layout: post\n",
    "toc: true\n",
    "title: Object Creation and Storage\n",
    "permalink: /csa/unit_01/1_14_hw\n",
    "---\n"
   ]
  },
  {
   "cell_type": "markdown",
   "id": "b23e8156",
   "metadata": {},
   "source": [
    "# Popcorn Hack #1\n",
    "Add another property to the dog class for breed.\n",
    "Add another method to the dog class that prints “My dog name is a breed!”\n",
    "Create a new object of this class and call the method."
   ]
  },
  {
   "cell_type": "code",
   "execution_count": 2,
   "id": "5bc609e2",
   "metadata": {
    "vscode": {
     "languageId": "java"
    }
   },
   "outputs": [],
   "source": [
    "public class Dog {\n",
    "    String name;   // Added property for the dog's name\n",
    "    String breed;  // Given property for breed\n",
    "\n",
    "    // Constructor to set both name and breed\n",
    "    public Dog(String name, String breed) {\n",
    "        this.name = name;\n",
    "        this.breed = breed;\n",
    "    }\n",
    "\n",
    "    // Method that prints: \"My dog name is a breed!\"\n",
    "    public void printInfo() {\n",
    "        System.out.println(\"My dog \" + name + \" is a \" + breed + \"!\");\n",
    "    }\n",
    "\n",
    "    // To use it:\n",
    "    public static void main(String[] args) {\n",
    "        // Create a new object of Dog class\n",
    "        Dog myDog = new Dog(\"Buddy\", \"Golden Retriever\");\n",
    "\n",
    "        // Call the method\n",
    "        myDog.printInfo();\n",
    "    }\n",
    "}\n"
   ]
  },
  {
   "cell_type": "markdown",
   "id": "98639414",
   "metadata": {},
   "source": [
    "# Popcorn Hack #2\n",
    "Add on to the previous counter class and add three more methods for subtraction, multiplication, and division.\n",
    "\n",
    "Call all five methods outside of the class.\n"
   ]
  },
  {
   "cell_type": "code",
   "execution_count": 1,
   "id": "074be7cc",
   "metadata": {
    "vscode": {
     "languageId": "java"
    }
   },
   "outputs": [],
   "source": [
    "public class Counter {\n",
    "    private int count;\n",
    "    public void add(int x) {\n",
    "        count += x;\n",
    "    }\n",
    "    public void subtract(int x) {\n",
    "        count -= x;\n",
    "    }\n",
    "    public void multiply(int x) {\n",
    "        count *= x;\n",
    "    }\n",
    "    public void divide(int x) {\n",
    "        count /=x;\n",
    "    }\n",
    "    public int getCount() {\n",
    "        return count;\n",
    "    }\n",
    "}\n",
    "\n",
    "// Use it:\n",
    "Counter c = new Counter();\n",
    "c.add(5);\n",
    "int val = c.getCount();  // returns 5\n",
    "c.subtract(6);\n",
    "int val = c.getCount();"
   ]
  },
  {
   "cell_type": "markdown",
   "id": "0bdea66c",
   "metadata": {},
   "source": [
    "# MC hacks\n",
    "\n",
    "1. B\n",
    "2. C\n",
    "3. B\n",
    "4. D\n",
    "5. D"
   ]
  }
 ],
 "metadata": {
  "kernelspec": {
   "display_name": "java (JJava/j!)",
   "language": "java",
   "name": "jbang-jjava"
  },
  "language_info": {
   "codemirror_mode": "java",
   "file_extension": ".jshell",
   "mimetype": "text/x-java-source",
   "name": "Java",
   "pygments_lexer": "java",
   "version": "21.0.8+9-Ubuntu-0ubuntu124.04.1"
  }
 },
 "nbformat": 4,
 "nbformat_minor": 5
}
