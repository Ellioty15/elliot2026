{
 "cells": [
  {
   "cell_type": "raw",
   "id": "3b7875a1",
   "metadata": {
    "vscode": {
     "languageId": "raw"
    }
   },
   "source": [
    "---\n",
    "layout: post\n",
    "toc: true\n",
    "title: Homework (1.13)\n",
    "permalink: /csa/unit_01/1_13_hw\n",
    "---\n",
    "\n",
    "\n"
   ]
  },
  {
   "cell_type": "code",
   "execution_count": null,
   "id": "513fa17b",
   "metadata": {
    "vscode": {
     "languageId": "java"
    }
   },
   "outputs": [],
   "source": [
    "// Homework Hack #1: Object Creation Practice\n",
    "\n",
    "public class ObjectCreation {\n",
    "    public static void main(String[] args) {\n",
    "        // 1. Create two Car objects using 'new'\n",
    "        // Example: Car car1 = new Car(\"Tesla\", 2024);\n",
    "        Car car1 = new Car(\"Sienna\", 2007);\n",
    "        Car car2 = new Car(\"Tesla\", 2024);\n",
    "\n",
    "        // 2. Print each car's info\n",
    "        // Example: System.out.println(car1);\n",
    "        System.out.println(car1);\n",
    "        System.out.println(car2);\n",
    "    }\n",
    "}\n",
    "\n",
    "public class Car {\n",
    "    // 1. Declare variables: brand, year\n",
    "    String brand;\n",
    "    int year;\n",
    "\n",
    "    // 2. Create a constructor to set those variables\n",
    "    public Car(String brand, int year) {\n",
    "        this.brand = brand;\n",
    "        this.year = year;\n",
    "    }\n",
    "\n",
    "    // 3. Add a method or toString() to display car info\n",
    "    @Override\n",
    "    public String toString() {\n",
    "        return \"Car [Brand: \" + brand + \", Year: \" + year + \"]\";\n",
    "    }\n",
    "}\n"
   ]
  },
  {
   "cell_type": "markdown",
   "id": "5dae9b23",
   "metadata": {},
   "source": [
    "# Homework Hack #2 — Heap vs Stack Storage Demo\n",
    "Goal - Understand where data is stored in memory — stack vs heap.\n",
    "Instructions:\n",
    "\n",
    "Create a Book class with one variable: String title.\n",
    "In main(), create:\n",
    "A primitive variable (e.g. int pages = 300;)\n",
    "A Book object (e.g. Book b1 = new Book(“Java Basics”);)\n",
    "Copy both into new variables (int pagesCopy = pages;, Book b2 = b1;)\n",
    "Change the original values and print everything — watch what changes."
   ]
  },
  {
   "cell_type": "code",
   "execution_count": null,
   "id": "959b42b5",
   "metadata": {
    "vscode": {
     "languageId": "java"
    }
   },
   "outputs": [],
   "source": [
    "// Homework Hack #2: Heap vs Stack Storage Demo\n",
    "\n",
    "public class HeapVsStack {\n",
    "    public static void main(String[] args) {\n",
    "        // 1. Create a primitive variable (int pages)\n",
    "        int pages = 300;\n",
    "\n",
    "        // 2. Create another primitive variable that copies it\n",
    "        int pagesCopy = pages;\n",
    "\n",
    "        // 3. Create a Book object (Book b1 = new Book(\"Java Basics\");)\n",
    "        Book b1 = new Book(\"Java Basics\");\n",
    "\n",
    "        // 4. Create another Book reference (Book b2 = b1;)\n",
    "        Book b2 = b1;\n",
    "\n",
    "        // 5. Change the original primitive and the Book title\n",
    "        pages = 500; // Only affects 'pages'\n",
    "        b1.title = \"Advanced Java\"; // Affects both b1 and b2 since they refer to the same object\n",
    "\n",
    "        // 6. Print both sets of values to compare behavior\n",
    "        System.out.println(\"pages: \" + pages);\n",
    "        System.out.println(\"pagesCopy: \" + pagesCopy);\n",
    "\n",
    "        System.out.println(\"b1: \" + b1);\n",
    "        System.out.println(\"b2: \" + b2);\n",
    "    }\n",
    "}\n",
    "\n",
    "class Book {\n",
    "    // 1. Declare variable: String title\n",
    "    String title;\n",
    "\n",
    "    // 2. Create a constructor to set the title\n",
    "    public Book(String title) {\n",
    "        this.title = title;\n",
    "    }\n",
    "\n",
    "    // 3. Create a toString() to show the title\n",
    "    @Override\n",
    "    public String toString() {\n",
    "        return \"Book [Title: \" + title + \"]\";\n",
    "    }\n",
    "}\n"
   ]
  }
 ],
 "metadata": {
  "language_info": {
   "name": "python"
  }
 },
 "nbformat": 4,
 "nbformat_minor": 5
}
