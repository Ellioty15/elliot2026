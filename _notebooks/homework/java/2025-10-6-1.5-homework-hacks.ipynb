{
 "cells": [
  {
   "cell_type": "markdown",
   "id": "d4d43668",
   "metadata": {},
   "source": [
    "---\n",
    "layout: post\n",
    "toc: true\n",
    "title: Homework (1.5)\n",
    "permalink: /csa/unit_01/1_5_hw\n",
    "---\n"
   ]
  },
  {
   "cell_type": "markdown",
   "id": "da04a894",
   "metadata": {},
   "source": [
    "# Homework Hacks\n",
    "## FRQ 1"
   ]
  },
  {
   "cell_type": "code",
   "execution_count": 11,
   "id": "e6a2ab7d",
   "metadata": {
    "vscode": {
     "languageId": "java"
    }
   },
   "outputs": [
    {
     "name": "stdout",
     "output_type": "stream",
     "text": [
      "3.5\n"
     ]
    }
   ],
   "source": [
    "//FRQ 1. Average with correct casting\n",
    "//Write a method avgInt that takes two int values and returns their average as a double, preserving the .5 if present.\n",
    "\n",
    "\n",
    "public class Main {\n",
    "    public static void main(String[] args) {\n",
    "        int a = 5;\n",
    "        int b = 2;\n",
    "        double result = avgInt(a, b); \n",
    "        System.out.println(result);\n",
    "    }\n",
    "\n",
    "    public static double avgInt(int a, int b) {\n",
    "        double c = (double)(a + b) / 2; \n",
    "        return c;\n",
    "    }\n",
    "}\n",
    "\n",
    "Main.main(null);"
   ]
  },
  {
   "cell_type": "markdown",
   "id": "30982a36",
   "metadata": {},
   "source": [
    "## FRQ 2"
   ]
  },
  {
   "cell_type": "code",
   "execution_count": 14,
   "id": "0c1f4b0b",
   "metadata": {
    "vscode": {
     "languageId": "java"
    }
   },
   "outputs": [
    {
     "name": "stdout",
     "output_type": "stream",
     "text": [
      "62.5\n"
     ]
    }
   ],
   "source": [
    "//FRQ 2. Percentage\n",
    "//Given int correct and int total, compute the percentage as a double from 0.0 to 100.0 without losing fractional precision.\n",
    "\n",
    "public class Main {\n",
    "    public static void main(String[] args) {\n",
    "        System.out.println(percent(5, 8));\n",
    "    }\n",
    "\n",
    "\n",
    "    public static double percent(int correct, int total) {\n",
    "        double percentage = ((double) correct / total) * 100;\n",
    "        return percentage;\n",
    "    }\n",
    "}\n",
    "\n",
    "Main.main(null)"
   ]
  },
  {
   "cell_type": "markdown",
   "id": "3a5db7bb",
   "metadata": {},
   "source": [
    "## FRQ 3"
   ]
  },
  {
   "cell_type": "code",
   "execution_count": null,
   "id": "cdea0434",
   "metadata": {
    "vscode": {
     "languageId": "java"
    }
   },
   "outputs": [
    {
     "name": "stdout",
     "output_type": "stream",
     "text": [
      "2\n"
     ]
    }
   ],
   "source": [
    "//Implement safeMod(int a, int b) that returns a % b, but if b == 0, it should return 0 instead of throwing\n",
    "\n",
    "public class Main {\n",
    "    public static void main(String[] args) {\n",
    "        System.out.println(safeMod(10, 8));\n",
    "    }\n",
    "\n",
    "\n",
    "    public static int safeMod(int a, int b) {\n",
    "        int result = (a % b);\n",
    "            if (b == 0) {\n",
    "                return 0;\n",
    "            } \n",
    "            else {\n",
    "                return result;\n",
    "            }\n",
    "    }\n",
    "}\n",
    "Main.main(null);"
   ]
  }
 ],
 "metadata": {
  "kernelspec": {
   "display_name": "java (JJava/j!)",
   "language": "java",
   "name": "jbang-jjava"
  },
  "language_info": {
   "codemirror_mode": "java",
   "file_extension": ".jshell",
   "mimetype": "text/x-java-source",
   "name": "Java",
   "pygments_lexer": "java",
   "version": "17.0.16+8-Ubuntu-0ubuntu124.04.1"
  }
 },
 "nbformat": 4,
 "nbformat_minor": 5
}
