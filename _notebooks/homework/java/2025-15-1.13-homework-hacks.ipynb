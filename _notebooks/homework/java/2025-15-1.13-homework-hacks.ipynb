{
 "cells": [
  {
   "cell_type": "markdown",
   "id": "3b7875a1",
   "metadata": {},
   "source": [
    "---\n",
    "layout: post\n",
    "toc: true\n",
    "title: Object Creation and Storage\n",
    "permalink: /csa/unit_01/1_13hw\n",
    "categories: [Java]\n",
    "---\n"
   ]
  }
 ],
 "metadata": {
  "language_info": {
   "name": "python"
  }
 },
 "nbformat": 4,
 "nbformat_minor": 5
}
